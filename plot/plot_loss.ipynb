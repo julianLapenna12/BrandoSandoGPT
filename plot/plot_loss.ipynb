{
  "cells": [
    {
      "cell_type": "code",
      "execution_count": 45,
      "metadata": {
        "trusted": true
      },
      "outputs": [],
      "source": [
        "import numpy as np\n",
        "\n",
        "train = open('train.txt', 'r').readlines()\n",
        "val = open('val.txt', 'r').readlines()\n",
        "\n",
        "train = np.asarray(list(n[:-2] for n in train), dtype=np.float32)\n",
        "val = np.asarray(list(n[:-2] for n in val), dtype=np.float32)\n",
        "\n",
        "# len(train)\n",
        "# print(train[:10])"
      ]
    },
    {
      "cell_type": "code",
      "execution_count": null,
      "metadata": {
        "trusted": true
      },
      "outputs": [],
      "source": [
        "import matplotlib.pyplot as plt\n",
        "\n",
        "plt.figure(figsize=(20, 6), dpi=80)\n",
        "plt.plot(train)\n",
        "plt.plot(val)\n",
        "plt.show()"
      ]
    },
    {
      "cell_type": "code",
      "execution_count": null,
      "metadata": {},
      "outputs": [],
      "source": []
    }
  ],
  "metadata": {
    "kernelspec": {
      "display_name": "Python (Pyodide)",
      "language": "python",
      "name": "python"
    },
    "language_info": {
      "codemirror_mode": {
        "name": "python",
        "version": 3
      },
      "file_extension": ".py",
      "mimetype": "text/x-python",
      "name": "python",
      "nbconvert_exporter": "python",
      "pygments_lexer": "ipython3",
      "version": "3.8"
    }
  },
  "nbformat": 4,
  "nbformat_minor": 4
}
